{
 "cells": [
  {
   "cell_type": "code",
   "execution_count": 1,
   "metadata": {},
   "outputs": [],
   "source": [
    "import requests\n",
    "import json\n",
    "import pandas as pd\n",
    "from bson.json_util import loads, dumps\n"
   ]
  },
  {
   "cell_type": "code",
   "execution_count": 2,
   "metadata": {},
   "outputs": [],
   "source": [
    "with open(\"./input/test_chats.json\") as f:\n",
    "    chats_json = json.load(f)"
   ]
  },
  {
   "cell_type": "code",
   "execution_count": 7,
   "metadata": {},
   "outputs": [
    {
     "data": {
      "text/plain": [
       "[{'idUser': 16, 'userName': 'Ultraman3'}]"
      ]
     },
     "execution_count": 7,
     "metadata": {},
     "output_type": "execute_result"
    }
   ],
   "source": [
    "#1: Create User\n",
    "url='http://0.0.0.0:8080/user/create'\n",
    "data = {\n",
    "    'userName' : 'Ultraman3'\n",
    "}\n",
    "requests.post(url, data=data).json()"
   ]
  },
  {
   "cell_type": "code",
   "execution_count": 9,
   "metadata": {},
   "outputs": [
    {
     "data": {
      "text/plain": [
       "[{'idUser': 1, 'userName': 'Mike Wazowski'}]"
      ]
     },
     "execution_count": 9,
     "metadata": {},
     "output_type": "execute_result"
    }
   ],
   "source": [
    "#2: Get UserName\n",
    "url='http://0.0.0.0:8080/user/1'\n",
    "requests.get(url).json()"
   ]
  },
  {
   "cell_type": "code",
   "execution_count": 9,
   "metadata": {},
   "outputs": [
    {
     "data": {
      "text/plain": [
       "{'1': {'recommended_users': [5, 6, 4]}}"
      ]
     },
     "execution_count": 9,
     "metadata": {},
     "output_type": "execute_result"
    }
   ],
   "source": [
    "#3 Get User Affinity\n",
    "url='http://0.0.0.0:8080/user/1/affinity'\n",
    "requests.get(url).json()"
   ]
  },
  {
   "cell_type": "code",
   "execution_count": 10,
   "metadata": {},
   "outputs": [
    {
     "data": {
      "text/plain": [
       "[{'_id': {'$oid': '5e199828e2063762589418db'},\n",
       "  'idUser': 13,\n",
       "  'idChat': 2,\n",
       "  'idMessage': 55,\n",
       "  'datetime': '2020-01-18 12:25:45',\n",
       "  'text': 'Probando, probando'}]"
      ]
     },
     "execution_count": 10,
     "metadata": {},
     "output_type": "execute_result"
    }
   ],
   "source": [
    "#4 Create New Message\n",
    "url='http://localhost:8080/chat/newmessage'\n",
    "data={\n",
    "    'idUser': 13, \n",
    "    'idChat': 2,\n",
    "    'datetime' : \"2020-01-18 12:25:45\",\n",
    "    'text' : \"Probando, probando\"\n",
    "    }\n",
    "requests.post(url, data=data).json()"
   ]
  },
  {
   "cell_type": "code",
   "execution_count": 13,
   "metadata": {},
   "outputs": [
    {
     "data": {
      "text/plain": [
       "<Response [200]>"
      ]
     },
     "execution_count": 13,
     "metadata": {},
     "output_type": "execute_result"
    }
   ],
   "source": [
    "#5 get chat by Id\n",
    "idchat = 2\n",
    "url= f'http://0.0.0.0:8080/chat/{idchat}'\n",
    "requests.get(url)"
   ]
  },
  {
   "cell_type": "code",
   "execution_count": 14,
   "metadata": {},
   "outputs": [
    {
     "data": {
      "text/plain": [
       "[{'0': [0, 1]},\n",
       " {'1': [2, 3, 7, 8, 12]},\n",
       " {'2': [1, 4, 13]},\n",
       " {'3': [0, 5]},\n",
       " {'4': [6, 7]}]"
      ]
     },
     "execution_count": 14,
     "metadata": {},
     "output_type": "execute_result"
    }
   ],
   "source": [
    "#6 Get Chat and Participants list\n",
    "idchat = 1\n",
    "url= f'http://0.0.0.0:8080/chat/list'\n",
    "requests.get(url).json()"
   ]
  },
  {
   "cell_type": "code",
   "execution_count": 23,
   "metadata": {},
   "outputs": [
    {
     "data": {
      "text/plain": [
       "{'conversation_polarity': -0.07886,\n",
       " 'users_polarity': '[{\"idUser\":2,\"polarity\":-0.7641},{\"idUser\":3,\"polarity\":-0.4188},{\"idUser\":7,\"polarity\":0.0},{\"idUser\":8,\"polarity\":0.0},{\"idUser\":12,\"polarity\":0.0}]'}"
      ]
     },
     "execution_count": 23,
     "metadata": {},
     "output_type": "execute_result"
    }
   ],
   "source": [
    "#7 Chat polarity\n",
    "idchat = 1\n",
    "url= f'http://0.0.0.0:8080/chat/{idchat}/sentiment'\n",
    "requests.get(url).json()"
   ]
  },
  {
   "cell_type": "code",
   "execution_count": 8,
   "metadata": {},
   "outputs": [
    {
     "data": {
      "text/plain": [
       "{'conversation_polarity': -1.5236999999999998,\n",
       " 'users_polarity': '[{\"idUser\":0,\"polarity\":-1.7043},{\"idUser\":1,\"polarity\":0.1806}]'}"
      ]
     },
     "execution_count": 8,
     "metadata": {},
     "output_type": "execute_result"
    }
   ],
   "source": [
    "idchat = 0\n",
    "url = f'https://chats-analyzer-api.herokuapp.com/chat/{idchat}/sentiment'\n",
    "requests.get(url).json()"
   ]
  },
  {
   "cell_type": "code",
   "execution_count": 6,
   "metadata": {},
   "outputs": [
    {
     "data": {
      "text/plain": [
       "{'conversation_polarity': -1.1829,\n",
       " 'users_polarity': '[{\"idUser\":2,\"polarity\":-0.7641},{\"idUser\":3,\"polarity\":-0.4188},{\"idUser\":7,\"polarity\":0.0},{\"idUser\":8,\"polarity\":0.0},{\"idUser\":12,\"polarity\":0.0}]'}"
      ]
     },
     "execution_count": 6,
     "metadata": {},
     "output_type": "execute_result"
    }
   ],
   "source": [
    "idchat = 1\n",
    "url = f'https://chats-analyser-api.herokuapp.com/chat/{idchat}/sentiment'\n",
    "requests.get(url).json()"
   ]
  },
  {
   "cell_type": "code",
   "execution_count": 14,
   "metadata": {},
   "outputs": [
    {
     "data": {
      "text/plain": [
       "{'0': {'most_similar_user': '5'}}"
      ]
     },
     "execution_count": 14,
     "metadata": {},
     "output_type": "execute_result"
    }
   ],
   "source": [
    "iduser = 0\n",
    "url = f\"https://chats-analyzer-api.herokuapp.com/user/{iduser}/affinity\"\n",
    "requests.get(url).json()"
   ]
  },
  {
   "cell_type": "code",
   "execution_count": 3,
   "metadata": {},
   "outputs": [
    {
     "data": {
      "text/plain": [
       "<Response [500]>"
      ]
     },
     "execution_count": 3,
     "metadata": {},
     "output_type": "execute_result"
    }
   ],
   "source": [
    "##TEST LIST_FILTER\n",
    "users = [0,1]\n",
    "url=f'http://localhost:8080/user/{users}'\n",
    "requests.get(url)"
   ]
  },
  {
   "cell_type": "code",
   "execution_count": 11,
   "metadata": {},
   "outputs": [
    {
     "data": {
      "text/plain": [
       "{'7': {'most_similar_user': '5'}}"
      ]
     },
     "execution_count": 11,
     "metadata": {},
     "output_type": "execute_result"
    }
   ],
   "source": [
    "iduser = 7\n",
    "url=f\"http://localhost:8080/user/{iduser}/affinity\"\n",
    "requests.get(url).json()"
   ]
  },
  {
   "cell_type": "code",
   "execution_count": 39,
   "metadata": {},
   "outputs": [
    {
     "data": {
      "text/html": [
       "<div>\n",
       "<style scoped>\n",
       "    .dataframe tbody tr th:only-of-type {\n",
       "        vertical-align: middle;\n",
       "    }\n",
       "\n",
       "    .dataframe tbody tr th {\n",
       "        vertical-align: top;\n",
       "    }\n",
       "\n",
       "    .dataframe thead th {\n",
       "        text-align: right;\n",
       "    }\n",
       "</style>\n",
       "<table border=\"1\" class=\"dataframe\">\n",
       "  <thead>\n",
       "    <tr style=\"text-align: right;\">\n",
       "      <th></th>\n",
       "      <th>_id</th>\n",
       "      <th>idUser</th>\n",
       "      <th>idChat</th>\n",
       "      <th>idMessage</th>\n",
       "      <th>datetime</th>\n",
       "      <th>text</th>\n",
       "    </tr>\n",
       "  </thead>\n",
       "  <tbody>\n",
       "    <tr>\n",
       "      <th>0</th>\n",
       "      <td>{'$oid': '5de3b934b4ab0b1e3d241292'}</td>\n",
       "      <td>0</td>\n",
       "      <td>0</td>\n",
       "      <td>0</td>\n",
       "      <td>2019-10-17 10:15:41</td>\n",
       "      <td>Hey Mike, whats up??</td>\n",
       "    </tr>\n",
       "    <tr>\n",
       "      <th>1</th>\n",
       "      <td>{'$oid': '5de3b935b4ab0b1e3d241293'}</td>\n",
       "      <td>1</td>\n",
       "      <td>0</td>\n",
       "      <td>1</td>\n",
       "      <td>2019-10-17 10:16:59</td>\n",
       "      <td>Dude!!! ðï¸ Did you watch the game last ni...</td>\n",
       "    </tr>\n",
       "    <tr>\n",
       "      <th>2</th>\n",
       "      <td>{'$oid': '5de3b935b4ab0b1e3d241294'}</td>\n",
       "      <td>0</td>\n",
       "      <td>0</td>\n",
       "      <td>2</td>\n",
       "      <td>2019-10-17 10:17:31</td>\n",
       "      <td>No, had to work. How was it?</td>\n",
       "    </tr>\n",
       "    <tr>\n",
       "      <th>3</th>\n",
       "      <td>{'$oid': '5de3b935b4ab0b1e3d241295'}</td>\n",
       "      <td>1</td>\n",
       "      <td>0</td>\n",
       "      <td>3</td>\n",
       "      <td>2019-10-17 10:18:41</td>\n",
       "      <td>Awesome! Boyander scored 3 goals!</td>\n",
       "    </tr>\n",
       "    <tr>\n",
       "      <th>4</th>\n",
       "      <td>{'$oid': '5de3b935b4ab0b1e3d241296'}</td>\n",
       "      <td>0</td>\n",
       "      <td>0</td>\n",
       "      <td>4</td>\n",
       "      <td>2019-10-17 10:19:41</td>\n",
       "      <td>No way! ð®ï¸</td>\n",
       "    </tr>\n",
       "  </tbody>\n",
       "</table>\n",
       "</div>"
      ],
      "text/plain": [
       "                                    _id  idUser  idChat  idMessage  \\\n",
       "0  {'$oid': '5de3b934b4ab0b1e3d241292'}       0       0          0   \n",
       "1  {'$oid': '5de3b935b4ab0b1e3d241293'}       1       0          1   \n",
       "2  {'$oid': '5de3b935b4ab0b1e3d241294'}       0       0          2   \n",
       "3  {'$oid': '5de3b935b4ab0b1e3d241295'}       1       0          3   \n",
       "4  {'$oid': '5de3b935b4ab0b1e3d241296'}       0       0          4   \n",
       "\n",
       "             datetime                                               text  \n",
       "0 2019-10-17 10:15:41                               Hey Mike, whats up??  \n",
       "1 2019-10-17 10:16:59  Dude!!! ðï¸ Did you watch the game last ni...  \n",
       "2 2019-10-17 10:17:31                       No, had to work. How was it?  \n",
       "3 2019-10-17 10:18:41                  Awesome! Boyander scored 3 goals!  \n",
       "4 2019-10-17 10:19:41                                    No way! ð®ï¸  "
      ]
     },
     "execution_count": 39,
     "metadata": {},
     "output_type": "execute_result"
    }
   ],
   "source": [
    "df = pd.read_json(messages, orient='columns')\n",
    "df.head()"
   ]
  },
  {
   "cell_type": "code",
   "execution_count": 47,
   "metadata": {},
   "outputs": [
    {
     "name": "stdout",
     "output_type": "stream",
     "text": [
      "Hey Mike, whats up??\n",
      "Dude!!! ðï¸ Did you watch the game last night?\n",
      "No, had to work. How was it?\n",
      "Awesome! Boyander scored 3 goals!\n",
      "No way! ð®ï¸\n",
      "Way...\n",
      "I bet people went crazy\n",
      "For sure. We stayed at KuboLoco until 6AM.\n",
      "Motherfucker! Hungover? ðµï¸\n",
      "Dead, burried and still suffering! ð¤®ï¸\n"
     ]
    }
   ],
   "source": [
    "for e in df['text']:\n",
    "    print(e)"
   ]
  },
  {
   "cell_type": "code",
   "execution_count": null,
   "metadata": {},
   "outputs": [],
   "source": [
    "# TODO REVIEW THIS!!!\n",
    "# Bottle Object to process a list of numbers as a wildcard filter.\n",
    "routelist = Bottle()\n",
    "\n",
    "\n",
    "def list_filter(config):\n",
    "    ''' Matches a comma separated list of numbers. '''\n",
    "    delimiter = config or ','\n",
    "    regexp = r'\\d+(%s\\d)*' % re.escape(delimiter)\n",
    "\n",
    "    def to_python(match):\n",
    "        return map(int, match.split(delimiter))\n",
    "\n",
    "    def to_url(numbers):\n",
    "        return delimiter.join(map(str, numbers))\n",
    "\n",
    "    return regexp, to_python, to_url\n",
    "\n",
    "\n",
    "routelist.router.add_filter('list', list_filter)\n",
    "\n",
    "\n",
    "@routelist.route('/user/<ids:list>', method=['GET'])\n",
    "def userNames(ids):\n",
    "    return mdb.listuserNames(ids)"
   ]
  },
  {
   "cell_type": "code",
   "execution_count": null,
   "metadata": {},
   "outputs": [],
   "source": [
    "\"\"\"\n",
    "PENDING TASKS:\n",
    "- response for POST methods: catch an error if the user or message already exists.\n",
    "- Automate user creation when a new message is added. If user doesn't exists, create new. \n",
    "- Create a filter_method in bottle to get a list of idusers or idchats.\n",
    "\n",
    "** Users:\n",
    "    - idUser\n",
    "    - userName\n",
    "** Messages:\n",
    "    - idUser\n",
    "    - idChat\n",
    "    - idMessage\n",
    "    - datetime\n",
    "    - text\n",
    "    \n",
    "@get(/sentiment/<idchat>)\n",
    "def analyzeSentimet(idchat):\n",
    "    return snt.analyzeSentiment(idchat)\n",
    "\n",
    "\"\"\""
   ]
  },
  {
   "cell_type": "code",
   "execution_count": 12,
   "metadata": {},
   "outputs": [
    {
     "data": {
      "text/plain": [
       "0.0"
      ]
     },
     "execution_count": 12,
     "metadata": {},
     "output_type": "execute_result"
    }
   ],
   "source": [
    "import nltk\n",
    "from nltk.sentiment.vader import SentimentIntensityAnalyzer\n",
    "\n",
    "\n",
    "sid = SentimentIntensityAnalyzer()\n",
    "\n",
    "snt = sid.polarity_scores(\"Weekend proyect\")\n",
    "\n",
    "snt['compound']"
   ]
  },
  {
   "cell_type": "code",
   "execution_count": 4,
   "metadata": {},
   "outputs": [],
   "source": [
    "import src.mongodb as mdb\n",
    "import json"
   ]
  },
  {
   "cell_type": "code",
   "execution_count": 7,
   "metadata": {},
   "outputs": [
    {
     "ename": "AttributeError",
     "evalue": "'dict' object has no attribute 'read'",
     "output_type": "error",
     "traceback": [
      "\u001b[0;31m---------------------------------------------------------------------------\u001b[0m",
      "\u001b[0;31mAttributeError\u001b[0m                            Traceback (most recent call last)",
      "\u001b[0;32m<ipython-input-7-e60fbc373af9>\u001b[0m in \u001b[0;36m<module>\u001b[0;34m\u001b[0m\n\u001b[0;32m----> 1\u001b[0;31m \u001b[0mjson\u001b[0m\u001b[0;34m.\u001b[0m\u001b[0mload\u001b[0m\u001b[0;34m(\u001b[0m\u001b[0mmdb\u001b[0m\u001b[0;34m.\u001b[0m\u001b[0mgetChatparticipants\u001b[0m\u001b[0;34m(\u001b[0m\u001b[0;34m)\u001b[0m\u001b[0;34m)\u001b[0m\u001b[0;34m\u001b[0m\u001b[0;34m\u001b[0m\u001b[0m\n\u001b[0m",
      "\u001b[0;32m/usr/lib/python3.6/json/__init__.py\u001b[0m in \u001b[0;36mload\u001b[0;34m(fp, cls, object_hook, parse_float, parse_int, parse_constant, object_pairs_hook, **kw)\u001b[0m\n\u001b[1;32m    294\u001b[0m \u001b[0;34m\u001b[0m\u001b[0m\n\u001b[1;32m    295\u001b[0m     \"\"\"\n\u001b[0;32m--> 296\u001b[0;31m     return loads(fp.read(),\n\u001b[0m\u001b[1;32m    297\u001b[0m         \u001b[0mcls\u001b[0m\u001b[0;34m=\u001b[0m\u001b[0mcls\u001b[0m\u001b[0;34m,\u001b[0m \u001b[0mobject_hook\u001b[0m\u001b[0;34m=\u001b[0m\u001b[0mobject_hook\u001b[0m\u001b[0;34m,\u001b[0m\u001b[0;34m\u001b[0m\u001b[0;34m\u001b[0m\u001b[0m\n\u001b[1;32m    298\u001b[0m         \u001b[0mparse_float\u001b[0m\u001b[0;34m=\u001b[0m\u001b[0mparse_float\u001b[0m\u001b[0;34m,\u001b[0m \u001b[0mparse_int\u001b[0m\u001b[0;34m=\u001b[0m\u001b[0mparse_int\u001b[0m\u001b[0;34m,\u001b[0m\u001b[0;34m\u001b[0m\u001b[0;34m\u001b[0m\u001b[0m\n",
      "\u001b[0;31mAttributeError\u001b[0m: 'dict' object has no attribute 'read'"
     ]
    }
   ],
   "source": [
    "json.load(mdb.getChatparticipants())"
   ]
  },
  {
   "cell_type": "code",
   "execution_count": 1,
   "metadata": {},
   "outputs": [
    {
     "name": "stdout",
     "output_type": "stream",
     "text": [
      "Conected to mongodb mongodb+srv://cast\n"
     ]
    }
   ],
   "source": [
    "import src.users_affinity as ua\n",
    "import numpy as np"
   ]
  },
  {
   "cell_type": "code",
   "execution_count": 2,
   "metadata": {},
   "outputs": [],
   "source": [
    "res = ua.similarUsers(1)\n"
   ]
  },
  {
   "cell_type": "code",
   "execution_count": 3,
   "metadata": {},
   "outputs": [
    {
     "data": {
      "text/plain": [
       "'{\"1\": {\"recommended_users\": [5, 6, 4]}}'"
      ]
     },
     "execution_count": 3,
     "metadata": {},
     "output_type": "execute_result"
    }
   ],
   "source": [
    "res"
   ]
  },
  {
   "cell_type": "code",
   "execution_count": 8,
   "metadata": {},
   "outputs": [
    {
     "data": {
      "text/plain": [
       "{'recommended_users': [5, 6, 4]}"
      ]
     },
     "execution_count": 8,
     "metadata": {},
     "output_type": "execute_result"
    }
   ],
   "source": [
    "np.fill_diagonal(sim_df.values, 0) # Remove diagonal max values and set those to 0\n",
    "recommended_users = {'recommended_users': [e for e in list(sim_df[1].sort_values(ascending=False)[0:3].index)]}\n",
    "return dumps({iduser : recommended_users})"
   ]
  },
  {
   "cell_type": "code",
   "execution_count": null,
   "metadata": {},
   "outputs": [],
   "source": []
  }
 ],
 "metadata": {
  "kernelspec": {
   "display_name": "Python 3",
   "language": "python",
   "name": "python3"
  },
  "language_info": {
   "codemirror_mode": {
    "name": "ipython",
    "version": 3
   },
   "file_extension": ".py",
   "mimetype": "text/x-python",
   "name": "python",
   "nbconvert_exporter": "python",
   "pygments_lexer": "ipython3",
   "version": "3.6.9"
  }
 },
 "nbformat": 4,
 "nbformat_minor": 4
}
