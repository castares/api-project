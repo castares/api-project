{
 "cells": [
  {
   "cell_type": "code",
   "execution_count": 1,
   "metadata": {},
   "outputs": [],
   "source": [
    "import requests\n",
    "import json\n",
    "import pandas as pd\n",
    "from bson.json_util import loads, dumps\n"
   ]
  },
  {
   "cell_type": "code",
   "execution_count": 2,
   "metadata": {},
   "outputs": [],
   "source": [
    "with open(\"./input/test_chats.json\") as f:\n",
    "    chats_json = json.load(f)"
   ]
  },
  {
   "cell_type": "code",
   "execution_count": 36,
   "metadata": {},
   "outputs": [
    {
     "data": {
      "text/plain": [
       "<Response [500]>"
      ]
     },
     "execution_count": 36,
     "metadata": {},
     "output_type": "execute_result"
    }
   ],
   "source": [
    "#Insert user 0\n",
    "url='http://localhost:8000/user/create'\n",
    "data = {\n",
    "    'userName' : 'Spider-Man'\n",
    "}\n",
    "requests.post(url, data=data)"
   ]
  },
  {
   "cell_type": "code",
   "execution_count": null,
   "metadata": {},
   "outputs": [],
   "source": []
  },
  {
   "cell_type": "code",
   "execution_count": 37,
   "metadata": {},
   "outputs": [
    {
     "data": {
      "text/plain": [
       "<Response [200]>"
      ]
     },
     "execution_count": 37,
     "metadata": {},
     "output_type": "execute_result"
    }
   ],
   "source": [
    "#Insert message 0\n",
    "url='http://localhost:8000/chat/newmessage'\n",
    "data={\n",
    "    'idUser': 8, \n",
    "    'idChat': 1,\n",
    "    'datetime' : \"2019-10-18 10:25:45\",\n",
    "    'text' : \"Hulk destruye!\"\n",
    "    }\n",
    "requests.post(url, data=data)"
   ]
  },
  {
   "cell_type": "code",
   "execution_count": 38,
   "metadata": {},
   "outputs": [],
   "source": [
    "idchat = 0\n",
    "url= f'http://localhost:8000/chat/{idchat}'\n",
    "messages = requests.get(url).text"
   ]
  },
  {
   "cell_type": "code",
   "execution_count": null,
   "metadata": {},
   "outputs": [],
   "source": [
    "#REVIEW!!!\n",
    "usernames = [0 , 1]\n",
    "url= f'http://localhost:8000/user/usernames'\n",
    "requests.get(url).json()"
   ]
  },
  {
   "cell_type": "code",
   "execution_count": 40,
   "metadata": {},
   "outputs": [
    {
     "data": {
      "text/plain": [
       "[{'_id': {'$oid': '5de3b5b82d1db05c5c71ad0e'},\n",
       "  'idUser': 1,\n",
       "  'userName': 'Mike Wazowski'}]"
      ]
     },
     "execution_count": 40,
     "metadata": {},
     "output_type": "execute_result"
    }
   ],
   "source": [
    "iduser = 1\n",
    "url= f'http://localhost:8000/user/{iduser}'\n",
    "requests.get(url).json()"
   ]
  },
  {
   "cell_type": "code",
   "execution_count": 48,
   "metadata": {},
   "outputs": [
    {
     "data": {
      "text/plain": [
       "{'conversation_polarity': -1.5236999999999998,\n",
       " 'users_polarity': '[{\"idUser\":0,\"polarity\":-1.7043},{\"idUser\":1,\"polarity\":0.1806}]'}"
      ]
     },
     "execution_count": 48,
     "metadata": {},
     "output_type": "execute_result"
    }
   ],
   "source": [
    "idchat = 0\n",
    "url = f'http://localhost:8000/chat/{idchat}/sentiment'\n",
    "requests.get(url).json()"
   ]
  },
  {
   "cell_type": "code",
   "execution_count": 22,
   "metadata": {},
   "outputs": [
    {
     "data": {
      "text/plain": [
       "<Response [500]>"
      ]
     },
     "execution_count": 22,
     "metadata": {},
     "output_type": "execute_result"
    }
   ],
   "source": [
    "##TEST LIST_FILTER\n",
    "users = [0,1]\n",
    "url=f'http://localhost:8000/user/{users}'\n",
    "requests.get(url)"
   ]
  },
  {
   "cell_type": "code",
   "execution_count": 39,
   "metadata": {},
   "outputs": [
    {
     "data": {
      "text/html": [
       "<div>\n",
       "<style scoped>\n",
       "    .dataframe tbody tr th:only-of-type {\n",
       "        vertical-align: middle;\n",
       "    }\n",
       "\n",
       "    .dataframe tbody tr th {\n",
       "        vertical-align: top;\n",
       "    }\n",
       "\n",
       "    .dataframe thead th {\n",
       "        text-align: right;\n",
       "    }\n",
       "</style>\n",
       "<table border=\"1\" class=\"dataframe\">\n",
       "  <thead>\n",
       "    <tr style=\"text-align: right;\">\n",
       "      <th></th>\n",
       "      <th>_id</th>\n",
       "      <th>idUser</th>\n",
       "      <th>idChat</th>\n",
       "      <th>idMessage</th>\n",
       "      <th>datetime</th>\n",
       "      <th>text</th>\n",
       "    </tr>\n",
       "  </thead>\n",
       "  <tbody>\n",
       "    <tr>\n",
       "      <th>0</th>\n",
       "      <td>{'$oid': '5de3b934b4ab0b1e3d241292'}</td>\n",
       "      <td>0</td>\n",
       "      <td>0</td>\n",
       "      <td>0</td>\n",
       "      <td>2019-10-17 10:15:41</td>\n",
       "      <td>Hey Mike, whats up??</td>\n",
       "    </tr>\n",
       "    <tr>\n",
       "      <th>1</th>\n",
       "      <td>{'$oid': '5de3b935b4ab0b1e3d241293'}</td>\n",
       "      <td>1</td>\n",
       "      <td>0</td>\n",
       "      <td>1</td>\n",
       "      <td>2019-10-17 10:16:59</td>\n",
       "      <td>Dude!!! ðï¸ Did you watch the game last ni...</td>\n",
       "    </tr>\n",
       "    <tr>\n",
       "      <th>2</th>\n",
       "      <td>{'$oid': '5de3b935b4ab0b1e3d241294'}</td>\n",
       "      <td>0</td>\n",
       "      <td>0</td>\n",
       "      <td>2</td>\n",
       "      <td>2019-10-17 10:17:31</td>\n",
       "      <td>No, had to work. How was it?</td>\n",
       "    </tr>\n",
       "    <tr>\n",
       "      <th>3</th>\n",
       "      <td>{'$oid': '5de3b935b4ab0b1e3d241295'}</td>\n",
       "      <td>1</td>\n",
       "      <td>0</td>\n",
       "      <td>3</td>\n",
       "      <td>2019-10-17 10:18:41</td>\n",
       "      <td>Awesome! Boyander scored 3 goals!</td>\n",
       "    </tr>\n",
       "    <tr>\n",
       "      <th>4</th>\n",
       "      <td>{'$oid': '5de3b935b4ab0b1e3d241296'}</td>\n",
       "      <td>0</td>\n",
       "      <td>0</td>\n",
       "      <td>4</td>\n",
       "      <td>2019-10-17 10:19:41</td>\n",
       "      <td>No way! ð®ï¸</td>\n",
       "    </tr>\n",
       "  </tbody>\n",
       "</table>\n",
       "</div>"
      ],
      "text/plain": [
       "                                    _id  idUser  idChat  idMessage  \\\n",
       "0  {'$oid': '5de3b934b4ab0b1e3d241292'}       0       0          0   \n",
       "1  {'$oid': '5de3b935b4ab0b1e3d241293'}       1       0          1   \n",
       "2  {'$oid': '5de3b935b4ab0b1e3d241294'}       0       0          2   \n",
       "3  {'$oid': '5de3b935b4ab0b1e3d241295'}       1       0          3   \n",
       "4  {'$oid': '5de3b935b4ab0b1e3d241296'}       0       0          4   \n",
       "\n",
       "             datetime                                               text  \n",
       "0 2019-10-17 10:15:41                               Hey Mike, whats up??  \n",
       "1 2019-10-17 10:16:59  Dude!!! ðï¸ Did you watch the game last ni...  \n",
       "2 2019-10-17 10:17:31                       No, had to work. How was it?  \n",
       "3 2019-10-17 10:18:41                  Awesome! Boyander scored 3 goals!  \n",
       "4 2019-10-17 10:19:41                                    No way! ð®ï¸  "
      ]
     },
     "execution_count": 39,
     "metadata": {},
     "output_type": "execute_result"
    }
   ],
   "source": [
    "df = pd.read_json(messages, orient='columns')\n",
    "df.head()"
   ]
  },
  {
   "cell_type": "code",
   "execution_count": 47,
   "metadata": {},
   "outputs": [
    {
     "name": "stdout",
     "output_type": "stream",
     "text": [
      "Hey Mike, whats up??\n",
      "Dude!!! ðï¸ Did you watch the game last night?\n",
      "No, had to work. How was it?\n",
      "Awesome! Boyander scored 3 goals!\n",
      "No way! ð®ï¸\n",
      "Way...\n",
      "I bet people went crazy\n",
      "For sure. We stayed at KuboLoco until 6AM.\n",
      "Motherfucker! Hungover? ðµï¸\n",
      "Dead, burried and still suffering! ð¤®ï¸\n"
     ]
    }
   ],
   "source": [
    "for e in df['text']:\n",
    "    print(e)"
   ]
  },
  {
   "cell_type": "code",
   "execution_count": null,
   "metadata": {},
   "outputs": [],
   "source": [
    "# TODO REVIEW THIS!!!\n",
    "# Bottle Object to process a list of numbers as a wildcard filter.\n",
    "routelist = Bottle()\n",
    "\n",
    "\n",
    "def list_filter(config):\n",
    "    ''' Matches a comma separated list of numbers. '''\n",
    "    delimiter = config or ','\n",
    "    regexp = r'\\d+(%s\\d)*' % re.escape(delimiter)\n",
    "\n",
    "    def to_python(match):\n",
    "        return map(int, match.split(delimiter))\n",
    "\n",
    "    def to_url(numbers):\n",
    "        return delimiter.join(map(str, numbers))\n",
    "\n",
    "    return regexp, to_python, to_url\n",
    "\n",
    "\n",
    "routelist.router.add_filter('list', list_filter)\n",
    "\n",
    "\n",
    "@routelist.route('/user/<ids:list>', method=['GET'])\n",
    "def userNames(ids):\n",
    "    return mdb.listuserNames(ids)"
   ]
  },
  {
   "cell_type": "code",
   "execution_count": null,
   "metadata": {},
   "outputs": [],
   "source": [
    "\"\"\"\n",
    "PENDING TASKS:\n",
    "- response for POST methods: catch an error if the user or message already exists.\n",
    "- Automate user creation when a new message is added. If user doesn't exists, create new. \n",
    "- Create a filter_method in bottle to get a list of idusers or idchats.\n",
    "\n",
    "** Users:\n",
    "    - idUser\n",
    "    - userName\n",
    "** Messages:\n",
    "    - idUser\n",
    "    - idChat\n",
    "    - idMessage\n",
    "    - datetime\n",
    "    - text\n",
    "    \n",
    "@get(/sentiment/<idchat>)\n",
    "def analyzeSentimet(idchat):\n",
    "    return snt.analyzeSentiment(idchat)\n",
    "\n",
    "\"\"\""
   ]
  },
  {
   "cell_type": "code",
   "execution_count": 12,
   "metadata": {},
   "outputs": [
    {
     "data": {
      "text/plain": [
       "0.0"
      ]
     },
     "execution_count": 12,
     "metadata": {},
     "output_type": "execute_result"
    }
   ],
   "source": [
    "import nltk\n",
    "from nltk.sentiment.vader import SentimentIntensityAnalyzer\n",
    "\n",
    "\n",
    "sid = SentimentIntensityAnalyzer()\n",
    "\n",
    "snt = sid.polarity_scores(\"Weekend proyect\")\n",
    "\n",
    "snt['compound']"
   ]
  }
 ],
 "metadata": {
  "kernelspec": {
   "display_name": "Python 3",
   "language": "python",
   "name": "python3"
  },
  "language_info": {
   "codemirror_mode": {
    "name": "ipython",
    "version": 3
   },
   "file_extension": ".py",
   "mimetype": "text/x-python",
   "name": "python",
   "nbconvert_exporter": "python",
   "pygments_lexer": "ipython3",
   "version": "3.6.9"
  }
 },
 "nbformat": 4,
 "nbformat_minor": 2
}
