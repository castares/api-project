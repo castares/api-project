{
 "cells": [
  {
   "cell_type": "code",
   "execution_count": 34,
   "metadata": {},
   "outputs": [],
   "source": [
    "import requests\n",
    "import json\n",
    "import pandas as pd\n",
    "from bson.json_util import loads, dumps\n"
   ]
  },
  {
   "cell_type": "code",
   "execution_count": 2,
   "metadata": {},
   "outputs": [],
   "source": [
    "with open(\"./input/test_chats.json\") as f:\n",
    "    chats_json = json.load(f)"
   ]
  },
  {
   "cell_type": "code",
   "execution_count": 8,
   "metadata": {},
   "outputs": [],
   "source": [
    "#Insert user 0\n",
    "url='http://localhost:8000/user/create'\n",
    "for message in chats_json:\n",
    "    data={\n",
    "        'idUser': message['idUser'],\n",
    "        'userName': message['userName']\n",
    "    }\n",
    "    requests.post(url, data=data)"
   ]
  },
  {
   "cell_type": "code",
   "execution_count": 7,
   "metadata": {},
   "outputs": [
    {
     "name": "stdout",
     "output_type": "stream",
     "text": [
      "request for idMessage 9 done\n",
      "request for idMessage 10 done\n",
      "request for idMessage 11 done\n",
      "request for idMessage 12 done\n",
      "request for idMessage 13 done\n",
      "request for idMessage 14 done\n",
      "request for idMessage 15 done\n",
      "request for idMessage 16 done\n",
      "request for idMessage 17 done\n",
      "request for idMessage 18 done\n",
      "request for idMessage 19 done\n",
      "request for idMessage 20 done\n",
      "request for idMessage 21 done\n",
      "request for idMessage 22 done\n",
      "request for idMessage 23 done\n",
      "request for idMessage 24 done\n",
      "request for idMessage 25 done\n",
      "request for idMessage 26 done\n",
      "request for idMessage 27 done\n",
      "request for idMessage 28 done\n",
      "request for idMessage 29 done\n",
      "request for idMessage 30 done\n",
      "request for idMessage 31 done\n",
      "request for idMessage 32 done\n",
      "request for idMessage 33 done\n",
      "request for idMessage 34 done\n",
      "request for idMessage 35 done\n",
      "request for idMessage 36 done\n",
      "request for idMessage 37 done\n",
      "request for idMessage 38 done\n",
      "request for idMessage 39 done\n",
      "request for idMessage 40 done\n",
      "request for idMessage 41 done\n",
      "request for idMessage 42 done\n",
      "request for idMessage 43 done\n",
      "request for idMessage 44 done\n",
      "request for idMessage 45 done\n",
      "request for idMessage 46 done\n",
      "request for idMessage 47 done\n",
      "request for idMessage 48 done\n",
      "request for idMessage 49 done\n"
     ]
    }
   ],
   "source": [
    "#Insert message 0\n",
    "url='http://localhost:8000/message/create'\n",
    "for message in chats_json[9:]:\n",
    "    data={\n",
    "        'idUser': message['idUser'], \n",
    "        'idChat': message['idChat'],\n",
    "        'idMessage':  message['idMessage'],\n",
    "        'datetime' : message['datetime'],\n",
    "        'text' : message['text']\n",
    "    }\n",
    "    requests.post(url, data=data)\n",
    "    print(\"request for idMessage {} done\".format(message['idMessage']))"
   ]
  },
  {
   "cell_type": "code",
   "execution_count": 41,
   "metadata": {},
   "outputs": [],
   "source": [
    "chatid = 0\n",
    "url= f'http://localhost:8000/messages/{chatid}'\n",
    "messages = requests.get(url).text"
   ]
  },
  {
   "cell_type": "code",
   "execution_count": null,
   "metadata": {},
   "outputs": [],
   "source": [
    "#REVIEW!!!\n",
    "usernames = [0 , 1]\n",
    "url= f'http://localhost:8000/user/usernames'\n",
    "requests.get(url).json()"
   ]
  },
  {
   "cell_type": "code",
   "execution_count": 4,
   "metadata": {},
   "outputs": [
    {
     "data": {
      "text/plain": [
       "[{'_id': {'$oid': '5de3b5b82d1db05c5c71ad0e'},\n",
       "  'idUser': 1,\n",
       "  'userName': 'Mike Wazowski'}]"
      ]
     },
     "execution_count": 4,
     "metadata": {},
     "output_type": "execute_result"
    }
   ],
   "source": [
    "iduser = 1\n",
    "url= f'http://localhost:8000/user/{iduser}'\n",
    "requests.get(url).json()"
   ]
  },
  {
   "cell_type": "code",
   "execution_count": null,
   "metadata": {},
   "outputs": [],
   "source": [
    "url='http://localhost:8080/add'\n",
    "params={'autor':'chiquito',\n",
    "       'chiste':'prueba5'}\n",
    "requests.post(url, data=params).text\n"
   ]
  },
  {
   "cell_type": "code",
   "execution_count": 46,
   "metadata": {},
   "outputs": [],
   "source": [
    "df = pd.read_json(messages, orient='columns')\n"
   ]
  },
  {
   "cell_type": "code",
   "execution_count": 47,
   "metadata": {},
   "outputs": [
    {
     "name": "stdout",
     "output_type": "stream",
     "text": [
      "Hey Mike, whats up??\n",
      "Dude!!! ðï¸ Did you watch the game last night?\n",
      "No, had to work. How was it?\n",
      "Awesome! Boyander scored 3 goals!\n",
      "No way! ð®ï¸\n",
      "Way...\n",
      "I bet people went crazy\n",
      "For sure. We stayed at KuboLoco until 6AM.\n",
      "Motherfucker! Hungover? ðµï¸\n",
      "Dead, burried and still suffering! ð¤®ï¸\n"
     ]
    }
   ],
   "source": [
    "for e in df['text']:\n",
    "    print(e)"
   ]
  },
  {
   "cell_type": "code",
   "execution_count": null,
   "metadata": {},
   "outputs": [],
   "source": [
    "getlist = Bottle()\n",
    "def list_filter(config):\n",
    "    ''' Matches a comma separated list of numbers. '''\n",
    "    delimiter = config or ','\n",
    "    regexp = r'\\d+(%s\\d)*' % re.escape(delimiter)\n",
    "\n",
    "    def to_python(match):\n",
    "        return map(int, match.split(delimiter))\n",
    "\n",
    "    def to_url(numbers):\n",
    "        return delimiter.join(map(str, numbers))\n",
    "\n",
    "    return regexp, to_python, to_url\n",
    "\n",
    "getlist.router.add_filter('list', list_filter)\n",
    "\n",
    "@routelist.route('/follow/<ids:list>', method=['GET'])\n",
    "def usernames(ids):\n",
    "    return return dumps(users_coll.find({'userid': {\"$in\": ids}})))\n",
    "        ..."
   ]
  },
  {
   "cell_type": "code",
   "execution_count": null,
   "metadata": {},
   "outputs": [],
   "source": [
    "\"\"\"\n",
    "PENDING TASKS:\n",
    "- response for POST methods: catch an error if the user or message already exists.\n",
    "- Automate user creation when a new message is added. If user doesn't exists, create new. \n",
    "- Create a filter_method in bottle to get a list of idusers or idchats.\n",
    "\n",
    "** Users:\n",
    "    - idUser\n",
    "    - userName\n",
    "** Messages:\n",
    "    - idUser\n",
    "    - idChat\n",
    "    - idMessage\n",
    "    - datetime\n",
    "    - text\n",
    "    \n",
    "@get(/sentiment/<idchat>)\n",
    "def analyzeSentimet(idchat):\n",
    "    return snt.analyzeSentiment(idchat)\n",
    "\n",
    "\"\"\""
   ]
  },
  {
   "cell_type": "code",
   "execution_count": 12,
   "metadata": {},
   "outputs": [
    {
     "data": {
      "text/plain": [
       "0.0"
      ]
     },
     "execution_count": 12,
     "metadata": {},
     "output_type": "execute_result"
    }
   ],
   "source": [
    "import nltk\n",
    "from nltk.sentiment.vader import SentimentIntensityAnalyzer\n",
    "\n",
    "\n",
    "sid = SentimentIntensityAnalyzer()\n",
    "\n",
    "snt = sid.polarity_scores(\"Weekend proyect\")\n",
    "\n",
    "snt['compound']"
   ]
  }
 ],
 "metadata": {
  "kernelspec": {
   "display_name": "Python 3",
   "language": "python",
   "name": "python3"
  },
  "language_info": {
   "codemirror_mode": {
    "name": "ipython",
    "version": 3
   },
   "file_extension": ".py",
   "mimetype": "text/x-python",
   "name": "python",
   "nbconvert_exporter": "python",
   "pygments_lexer": "ipython3",
   "version": "3.6.9"
  }
 },
 "nbformat": 4,
 "nbformat_minor": 2
}
