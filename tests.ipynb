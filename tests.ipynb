{
 "cells": [
  {
   "cell_type": "code",
   "execution_count": 1,
   "metadata": {},
   "outputs": [],
   "source": [
    "import requests\n",
    "import json"
   ]
  },
  {
   "cell_type": "code",
   "execution_count": 12,
   "metadata": {},
   "outputs": [
    {
     "data": {
      "text/plain": [
       "<bound method Response.json of <Response [500]>>"
      ]
     },
     "execution_count": 12,
     "metadata": {},
     "output_type": "execute_result"
    }
   ],
   "source": [
    "with open(\"./input/test_chats.json\") as f:\n",
    "    chats_json = json.load(f)\n",
    "\n",
    "    \n",
    "#coll.insert_one(chats_json)\n",
    "url='http://localhost:8000/user/create'\n",
    "params={\n",
    "    'idUser': chats_json[0]['idUser'],\n",
    "    'userName': chats_json[0]['userName']\n",
    "}\n",
    "requests.post(url, data=params).json\n"
   ]
  },
  {
   "cell_type": "code",
   "execution_count": null,
   "metadata": {},
   "outputs": [],
   "source": [
    "url='http://localhost:8080/add'\n",
    "params={'autor':'chiquito',\n",
    "       'chiste':'prueba5'}\n",
    "requests.post(url, data=params).text\n"
   ]
  },
  {
   "cell_type": "code",
   "execution_count": 8,
   "metadata": {},
   "outputs": [
    {
     "data": {
      "text/plain": [
       "{'idUser': 0,\n",
       " 'userName': 'John Wick',\n",
       " 'idMessage': 0,\n",
       " 'idChat': 0,\n",
       " 'datetime': '2019-10-17 10:15:41',\n",
       " 'text': 'Hey Mike, whats up??'}"
      ]
     },
     "execution_count": 8,
     "metadata": {},
     "output_type": "execute_result"
    }
   ],
   "source": [
    "chats_json[0]"
   ]
  },
  {
   "cell_type": "markdown",
   "metadata": {},
   "source": [
    "\"\"\"\n",
    "** Users:\n",
    "    - idUser\n",
    "    - userName\n",
    "** Messages:\n",
    "    - idUser\n",
    "    - idChat\n",
    "    - idMessage\n",
    "    - datetime\n",
    "    - text\n",
    "\"\"\""
   ]
  }
 ],
 "metadata": {
  "kernelspec": {
   "display_name": "Python 3",
   "language": "python",
   "name": "python3"
  },
  "language_info": {
   "codemirror_mode": {
    "name": "ipython",
    "version": 3
   },
   "file_extension": ".py",
   "mimetype": "text/x-python",
   "name": "python",
   "nbconvert_exporter": "python",
   "pygments_lexer": "ipython3",
   "version": "3.6.9"
  }
 },
 "nbformat": 4,
 "nbformat_minor": 2
}
